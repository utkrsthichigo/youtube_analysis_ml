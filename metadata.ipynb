{
 "cells": [
  {
   "cell_type": "code",
   "execution_count": 10,
   "metadata": {},
   "outputs": [],
   "source": [
    "import pandas as pd\n",
    "import numpy as np\n",
    "import matplotlib.pyplot as plt\n",
    "import seaborn as sns\n",
    "import warnings\n",
    "warnings.filterwarnings('ignore')\n",
    "pd.set_option('display.max_columns',None)\n",
    "import matplotlib.pyplot as plt\n",
    "import seaborn as sns"
   ]
  },
  {
   "cell_type": "code",
   "execution_count": 11,
   "metadata": {},
   "outputs": [
    {
     "data": {
      "text/html": [
       "<div>\n",
       "<style scoped>\n",
       "    .dataframe tbody tr th:only-of-type {\n",
       "        vertical-align: middle;\n",
       "    }\n",
       "\n",
       "    .dataframe tbody tr th {\n",
       "        vertical-align: top;\n",
       "    }\n",
       "\n",
       "    .dataframe thead th {\n",
       "        text-align: right;\n",
       "    }\n",
       "</style>\n",
       "<table border=\"1\" class=\"dataframe\">\n",
       "  <thead>\n",
       "    <tr style=\"text-align: right;\">\n",
       "      <th></th>\n",
       "      <th>Unnamed: 0</th>\n",
       "      <th>video_id</th>\n",
       "      <th>title_of_video</th>\n",
       "      <th>description_video</th>\n",
       "      <th>category_id_video</th>\n",
       "      <th>tags</th>\n",
       "      <th>duration_video</th>\n",
       "      <th>view_count_video</th>\n",
       "      <th>likes_video</th>\n",
       "      <th>Total_Comments</th>\n",
       "      <th>upload_time</th>\n",
       "      <th>channel_title</th>\n",
       "      <th>Comments_Video</th>\n",
       "      <th>channel_id</th>\n",
       "      <th>description_channel</th>\n",
       "      <th>view_count_channel</th>\n",
       "      <th>Total_Subscriber</th>\n",
       "      <th>Total_Videos</th>\n",
       "      <th>created_time</th>\n",
       "    </tr>\n",
       "  </thead>\n",
       "  <tbody>\n",
       "    <tr>\n",
       "      <th>0</th>\n",
       "      <td>0</td>\n",
       "      <td>-gJ1a4qzO58</td>\n",
       "      <td>Adopted by the SMALLEST FAMILY in Minecraft! (...</td>\n",
       "      <td>Adopted by the SMALLEST FAMILY in Minecraft! (...</td>\n",
       "      <td>20</td>\n",
       "      <td>['minecraft', 'yes smarty pie himlands', 'Adop...</td>\n",
       "      <td>1139</td>\n",
       "      <td>108078</td>\n",
       "      <td>3539</td>\n",
       "      <td>840</td>\n",
       "      <td>2023-03-10T09:32:59Z</td>\n",
       "      <td>Paglaa Tech</td>\n",
       "      <td>['Favrt COLOUR BTAO and SUBSCRIBE krke Heart l...</td>\n",
       "      <td>UC5v-gTzCpaY257sxx-8P_-Q</td>\n",
       "      <td>1000 subscribers - 31/12/2021\\n10000 subscribe...</td>\n",
       "      <td>17097445</td>\n",
       "      <td>147000</td>\n",
       "      <td>184</td>\n",
       "      <td>2016-05-16T16:06:36Z</td>\n",
       "    </tr>\n",
       "    <tr>\n",
       "      <th>1</th>\n",
       "      <td>1</td>\n",
       "      <td>gSYT7WSfekk</td>\n",
       "      <td>The BIRTH to DEATH of a Minecraft ELEPHANT! 😱 ...</td>\n",
       "      <td>The BIRTH to DEATH of a Minecraft ELEPHANT! 😱 ...</td>\n",
       "      <td>20</td>\n",
       "      <td>['minecraft', 'yessmartypie himlands', 'The BI...</td>\n",
       "      <td>967</td>\n",
       "      <td>155964</td>\n",
       "      <td>6147</td>\n",
       "      <td>1163</td>\n",
       "      <td>2023-03-12T07:50:52Z</td>\n",
       "      <td>Paglaa Tech</td>\n",
       "      <td>['Pet btao and Subscribe krke Heart lelo \\r IN...</td>\n",
       "      <td>UC5v-gTzCpaY257sxx-8P_-Q</td>\n",
       "      <td>1000 subscribers - 31/12/2021\\n10000 subscribe...</td>\n",
       "      <td>17097445</td>\n",
       "      <td>147000</td>\n",
       "      <td>184</td>\n",
       "      <td>2016-05-16T16:06:36Z</td>\n",
       "    </tr>\n",
       "  </tbody>\n",
       "</table>\n",
       "</div>"
      ],
      "text/plain": [
       "   Unnamed: 0     video_id                                     title_of_video  \\\n",
       "0           0  -gJ1a4qzO58  Adopted by the SMALLEST FAMILY in Minecraft! (...   \n",
       "1           1  gSYT7WSfekk  The BIRTH to DEATH of a Minecraft ELEPHANT! 😱 ...   \n",
       "\n",
       "                                   description_video  category_id_video  \\\n",
       "0  Adopted by the SMALLEST FAMILY in Minecraft! (...                 20   \n",
       "1  The BIRTH to DEATH of a Minecraft ELEPHANT! 😱 ...                 20   \n",
       "\n",
       "                                                tags  duration_video  \\\n",
       "0  ['minecraft', 'yes smarty pie himlands', 'Adop...            1139   \n",
       "1  ['minecraft', 'yessmartypie himlands', 'The BI...             967   \n",
       "\n",
       "   view_count_video  likes_video  Total_Comments           upload_time  \\\n",
       "0            108078         3539             840  2023-03-10T09:32:59Z   \n",
       "1            155964         6147            1163  2023-03-12T07:50:52Z   \n",
       "\n",
       "  channel_title                                     Comments_Video  \\\n",
       "0   Paglaa Tech  ['Favrt COLOUR BTAO and SUBSCRIBE krke Heart l...   \n",
       "1   Paglaa Tech  ['Pet btao and Subscribe krke Heart lelo \\r IN...   \n",
       "\n",
       "                 channel_id  \\\n",
       "0  UC5v-gTzCpaY257sxx-8P_-Q   \n",
       "1  UC5v-gTzCpaY257sxx-8P_-Q   \n",
       "\n",
       "                                 description_channel  view_count_channel  \\\n",
       "0  1000 subscribers - 31/12/2021\\n10000 subscribe...            17097445   \n",
       "1  1000 subscribers - 31/12/2021\\n10000 subscribe...            17097445   \n",
       "\n",
       "   Total_Subscriber  Total_Videos          created_time  \n",
       "0            147000           184  2016-05-16T16:06:36Z  \n",
       "1            147000           184  2016-05-16T16:06:36Z  "
      ]
     },
     "execution_count": 11,
     "metadata": {},
     "output_type": "execute_result"
    }
   ],
   "source": [
    "df= pd.read_csv('final_merged.csv')\n",
    "df.head(2)"
   ]
  },
  {
   "cell_type": "code",
   "execution_count": 12,
   "metadata": {},
   "outputs": [],
   "source": [
    "from sklearn.preprocessing import LabelEncoder\n",
    "\n",
    "# Encode categorical variables\n",
    "le = LabelEncoder()\n",
    "df['title_encoded'] = le.fit_transform(df['title_of_video'])\n",
    "df['tags_encoded'] = le.fit_transform(df['tags'])\n",
    "df['description_encoded'] = le.fit_transform(df['description_channel'])"
   ]
  },
  {
   "cell_type": "code",
   "execution_count": 13,
   "metadata": {},
   "outputs": [],
   "source": [
    "from sklearn.decomposition import PCA\n",
    "\n",
    "# Create an instance of the PCA class\n",
    "#pca = PCA(n_components=2)\n",
    "\n",
    "\n",
    "# Define features to include in PCA\n",
    "features = ['title_encoded','tags_encoded','description_encoded']\n",
    "\n",
    "# Standardize features\n",
    "df[features] = (df[features] - df[features].mean()) / df[features].std()\n",
    "\n",
    "# Fit PCA\n",
    "pca = PCA()\n",
    "pca.fit(df[features])\n",
    "\n",
    "# Transform data using PCA components\n",
    "df_pca = pd.DataFrame(pca.transform(df[features]), columns=[f'component_{i+1}' for i in range(len(features))])\n",
    "\n",
    "# Create a composite growth score based on PCA components\n",
    "df['growth_score'] = df_pca.sum(axis=1)"
   ]
  },
  {
   "cell_type": "code",
   "execution_count": 21,
   "metadata": {},
   "outputs": [
    {
     "name": "stdout",
     "output_type": "stream",
     "text": [
      "Mean Squared Error:  0.03923939193802818\n",
      "R-squared:  0.9871598956506356\n",
      "Mean Absolute Error:  0.12700168413123616\n"
     ]
    }
   ],
   "source": [
    "from sklearn.ensemble import RandomForestRegressor\n",
    "from sklearn.model_selection import train_test_split\n",
    "from sklearn.metrics import mean_squared_error, r2_score, mean_absolute_error\n",
    "# Scale numerical features\n",
    "df[['title_encoded','tags_encoded','description_encoded']] = \\\n",
    "    (df[['title_encoded','tags_encoded','description_encoded']] - \\\n",
    "    df[['title_encoded','tags_encoded','description_encoded']].mean()) / \\\n",
    "    df[['title_encoded','tags_encoded','description_encoded']].std()\n",
    "\n",
    "# Select features for model\n",
    "X = df[['title_encoded','tags_encoded','description_encoded']]\n",
    "y = df['growth_score']\n",
    "\n",
    "# Split data into training and testing sets\n",
    "X_train, X_test, y_train, y_test = train_test_split(X, y, test_size=0.3, random_state=0)\n",
    "\n",
    "# Create and fit the Random Forest Regression Model\n",
    "rf_model = RandomForestRegressor(n_estimators=100, random_state=0)\n",
    "rf_model.fit(X_train, y_train)\n",
    "\n",
    "# Make predictions on test data\n",
    "y_pred = rf_model.predict(X_test)\n",
    "\n",
    "# Evaluate the model performance\n",
    "mse = mean_squared_error(y_test, y_pred)\n",
    "r2 = r2_score(y_test, y_pred)\n",
    "mae = mean_absolute_error(y_test, y_pred)\n",
    "\n",
    "print('Mean Squared Error: ', mse)\n",
    "print('R-squared: ', r2)\n",
    "print('Mean Absolute Error: ', mae)"
   ]
  },
  {
   "cell_type": "code",
   "execution_count": 22,
   "metadata": {},
   "outputs": [
    {
     "name": "stdout",
     "output_type": "stream",
     "text": [
      "Accuracy: 0.9871598956506356\n"
     ]
    }
   ],
   "source": [
    "import numpy as np\n",
    "accuracy = 1 - mse/np.var(y_test)\n",
    "\n",
    "# Print the accuracy\n",
    "print(\"Accuracy:\",accuracy)\n"
   ]
  },
  {
   "cell_type": "code",
   "execution_count": null,
   "metadata": {},
   "outputs": [],
   "source": []
  }
 ],
 "metadata": {
  "kernelspec": {
   "display_name": "base",
   "language": "python",
   "name": "python3"
  },
  "language_info": {
   "codemirror_mode": {
    "name": "ipython",
    "version": 3
   },
   "file_extension": ".py",
   "mimetype": "text/x-python",
   "name": "python",
   "nbconvert_exporter": "python",
   "pygments_lexer": "ipython3",
   "version": "3.9.7"
  },
  "orig_nbformat": 4
 },
 "nbformat": 4,
 "nbformat_minor": 2
}
