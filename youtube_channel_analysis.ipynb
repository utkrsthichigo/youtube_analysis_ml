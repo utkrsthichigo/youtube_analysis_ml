{
 "cells": [
  {
   "cell_type": "code",
   "execution_count": 2,
   "metadata": {},
   "outputs": [],
   "source": [
    "import pandas as pd\n",
    "import numpy as np\n",
    "import matplotlib.pyplot as plt\n",
    "import seaborn as sns\n",
    "import warnings\n",
    "warnings.filterwarnings('ignore')\n",
    "pd.set_option('display.max_columns',None)\n",
    "import matplotlib.pyplot as plt\n",
    "import seaborn as sns\n"
   ]
  },
  {
   "cell_type": "code",
   "execution_count": 3,
   "metadata": {},
   "outputs": [
    {
     "data": {
      "text/html": [
       "<div>\n",
       "<style scoped>\n",
       "    .dataframe tbody tr th:only-of-type {\n",
       "        vertical-align: middle;\n",
       "    }\n",
       "\n",
       "    .dataframe tbody tr th {\n",
       "        vertical-align: top;\n",
       "    }\n",
       "\n",
       "    .dataframe thead th {\n",
       "        text-align: right;\n",
       "    }\n",
       "</style>\n",
       "<table border=\"1\" class=\"dataframe\">\n",
       "  <thead>\n",
       "    <tr style=\"text-align: right;\">\n",
       "      <th></th>\n",
       "      <th>Unnamed: 0</th>\n",
       "      <th>Unnamed: 0.1</th>\n",
       "      <th>channel_id</th>\n",
       "      <th>channel_title</th>\n",
       "      <th>description</th>\n",
       "      <th>view_count</th>\n",
       "      <th>subscriber_count</th>\n",
       "      <th>video_count</th>\n",
       "      <th>created_time</th>\n",
       "      <th>uploads</th>\n",
       "      <th>other_links</th>\n",
       "    </tr>\n",
       "  </thead>\n",
       "  <tbody>\n",
       "    <tr>\n",
       "      <th>0</th>\n",
       "      <td>0</td>\n",
       "      <td>0</td>\n",
       "      <td>UCn_l37ETRGxVsVqPAZM-y7w</td>\n",
       "      <td>Onkiify</td>\n",
       "      <td>Ahoy! Gamers What is Up it's your Boi Onkiify....</td>\n",
       "      <td>1443714</td>\n",
       "      <td>4820</td>\n",
       "      <td>193</td>\n",
       "      <td>2017-05-18T17:27:05Z</td>\n",
       "      <td>UUn_l37ETRGxVsVqPAZM-y7w</td>\n",
       "      <td>['https://www.youtube.com/redirect?event=chann...</td>\n",
       "    </tr>\n",
       "    <tr>\n",
       "      <th>1</th>\n",
       "      <td>1</td>\n",
       "      <td>1</td>\n",
       "      <td>UCg3811K2k6ZW0T9wrUyq7UQ</td>\n",
       "      <td>Boyzz World Gaming</td>\n",
       "      <td>Sup Guys\\n                 I'm just a Weirdo W...</td>\n",
       "      <td>761326</td>\n",
       "      <td>1690</td>\n",
       "      <td>196</td>\n",
       "      <td>2020-09-07T06:42:54.28756Z</td>\n",
       "      <td>UUg3811K2k6ZW0T9wrUyq7UQ</td>\n",
       "      <td>['https://www.youtube.com/redirect?event=chann...</td>\n",
       "    </tr>\n",
       "    <tr>\n",
       "      <th>2</th>\n",
       "      <td>2</td>\n",
       "      <td>2</td>\n",
       "      <td>UCO1-i4iqe_Kg0B-nwt5W0Gg</td>\n",
       "      <td>Majnu Gaming</td>\n",
       "      <td>Hello Gamer's 😍\\n\\nHello Family, \\nMera Name H...</td>\n",
       "      <td>290799</td>\n",
       "      <td>4690</td>\n",
       "      <td>468</td>\n",
       "      <td>2021-05-28T08:27:39.183399Z</td>\n",
       "      <td>UUO1-i4iqe_Kg0B-nwt5W0Gg</td>\n",
       "      <td>['https://www.youtube.com/redirect?event=chann...</td>\n",
       "    </tr>\n",
       "    <tr>\n",
       "      <th>3</th>\n",
       "      <td>3</td>\n",
       "      <td>3</td>\n",
       "      <td>UC6AhmVhClcDx2RPsFFw_fAA</td>\n",
       "      <td>SELEM YT</td>\n",
       "      <td>\\nAGAR AAP LOG FREE FIRE LOVER❤️ HO TO MERA CH...</td>\n",
       "      <td>6427859</td>\n",
       "      <td>133000</td>\n",
       "      <td>339</td>\n",
       "      <td>2021-03-03T00:59:54.797482Z</td>\n",
       "      <td>UU6AhmVhClcDx2RPsFFw_fAA</td>\n",
       "      <td>[]</td>\n",
       "    </tr>\n",
       "    <tr>\n",
       "      <th>4</th>\n",
       "      <td>4</td>\n",
       "      <td>4</td>\n",
       "      <td>UC5v-gTzCpaY257sxx-8P_-Q</td>\n",
       "      <td>Paglaa Tech</td>\n",
       "      <td>1000 subscribers - 31/12/2021\\n10000 subscribe...</td>\n",
       "      <td>17097445</td>\n",
       "      <td>147000</td>\n",
       "      <td>184</td>\n",
       "      <td>2016-05-16T16:06:36Z</td>\n",
       "      <td>UU5v-gTzCpaY257sxx-8P_-Q</td>\n",
       "      <td>[]</td>\n",
       "    </tr>\n",
       "  </tbody>\n",
       "</table>\n",
       "</div>"
      ],
      "text/plain": [
       "   Unnamed: 0  Unnamed: 0.1                channel_id       channel_title  \\\n",
       "0           0             0  UCn_l37ETRGxVsVqPAZM-y7w             Onkiify   \n",
       "1           1             1  UCg3811K2k6ZW0T9wrUyq7UQ  Boyzz World Gaming   \n",
       "2           2             2  UCO1-i4iqe_Kg0B-nwt5W0Gg        Majnu Gaming   \n",
       "3           3             3  UC6AhmVhClcDx2RPsFFw_fAA            SELEM YT   \n",
       "4           4             4  UC5v-gTzCpaY257sxx-8P_-Q         Paglaa Tech   \n",
       "\n",
       "                                         description  view_count  \\\n",
       "0  Ahoy! Gamers What is Up it's your Boi Onkiify....     1443714   \n",
       "1  Sup Guys\\n                 I'm just a Weirdo W...      761326   \n",
       "2  Hello Gamer's 😍\\n\\nHello Family, \\nMera Name H...      290799   \n",
       "3  \\nAGAR AAP LOG FREE FIRE LOVER❤️ HO TO MERA CH...     6427859   \n",
       "4  1000 subscribers - 31/12/2021\\n10000 subscribe...    17097445   \n",
       "\n",
       "   subscriber_count  video_count                 created_time  \\\n",
       "0              4820          193         2017-05-18T17:27:05Z   \n",
       "1              1690          196   2020-09-07T06:42:54.28756Z   \n",
       "2              4690          468  2021-05-28T08:27:39.183399Z   \n",
       "3            133000          339  2021-03-03T00:59:54.797482Z   \n",
       "4            147000          184         2016-05-16T16:06:36Z   \n",
       "\n",
       "                    uploads                                        other_links  \n",
       "0  UUn_l37ETRGxVsVqPAZM-y7w  ['https://www.youtube.com/redirect?event=chann...  \n",
       "1  UUg3811K2k6ZW0T9wrUyq7UQ  ['https://www.youtube.com/redirect?event=chann...  \n",
       "2  UUO1-i4iqe_Kg0B-nwt5W0Gg  ['https://www.youtube.com/redirect?event=chann...  \n",
       "3  UU6AhmVhClcDx2RPsFFw_fAA                                                 []  \n",
       "4  UU5v-gTzCpaY257sxx-8P_-Q                                                 []  "
      ]
     },
     "execution_count": 3,
     "metadata": {},
     "output_type": "execute_result"
    }
   ],
   "source": [
    "df= pd.read_csv('dataset_datahack_channels.csv')\n",
    "df.head()\n"
   ]
  },
  {
   "cell_type": "code",
   "execution_count": 4,
   "metadata": {},
   "outputs": [
    {
     "data": {
      "text/plain": [
       "(50, 11)"
      ]
     },
     "execution_count": 4,
     "metadata": {},
     "output_type": "execute_result"
    }
   ],
   "source": [
    "df.shape"
   ]
  },
  {
   "cell_type": "code",
   "execution_count": 5,
   "metadata": {},
   "outputs": [
    {
     "name": "stdout",
     "output_type": "stream",
     "text": [
      "<class 'pandas.core.frame.DataFrame'>\n",
      "RangeIndex: 50 entries, 0 to 49\n",
      "Data columns (total 11 columns):\n",
      " #   Column            Non-Null Count  Dtype \n",
      "---  ------            --------------  ----- \n",
      " 0   Unnamed: 0        50 non-null     int64 \n",
      " 1   Unnamed: 0.1      50 non-null     int64 \n",
      " 2   channel_id        50 non-null     object\n",
      " 3   channel_title     50 non-null     object\n",
      " 4   description       49 non-null     object\n",
      " 5   view_count        50 non-null     int64 \n",
      " 6   subscriber_count  50 non-null     int64 \n",
      " 7   video_count       50 non-null     int64 \n",
      " 8   created_time      50 non-null     object\n",
      " 9   uploads           50 non-null     object\n",
      " 10  other_links       50 non-null     object\n",
      "dtypes: int64(5), object(6)\n",
      "memory usage: 4.4+ KB\n"
     ]
    }
   ],
   "source": [
    "df.info()"
   ]
  },
  {
   "cell_type": "code",
   "execution_count": 10,
   "metadata": {},
   "outputs": [],
   "source": [
    "# Drop irrelevant columns\n",
    "df = df.drop([\"Unnamed: 0.1\"], axis=1)\n",
    "\n"
   ]
  },
  {
   "cell_type": "code",
   "execution_count": 13,
   "metadata": {},
   "outputs": [
    {
     "name": "stdout",
     "output_type": "stream",
     "text": [
      "Unnamed: 0          0\n",
      "channel_id          0\n",
      "channel_title       0\n",
      "description         0\n",
      "view_count          0\n",
      "subscriber_count    0\n",
      "video_count         0\n",
      "created_time        0\n",
      "uploads             0\n",
      "other_links         0\n",
      "dtype: int64\n"
     ]
    }
   ],
   "source": [
    "\n",
    "# Check for missing values\n",
    "print(df.isnull().sum())"
   ]
  },
  {
   "cell_type": "code",
   "execution_count": 14,
   "metadata": {},
   "outputs": [],
   "source": [
    "#Droping on row which have one nulkl valye\n",
    "df=df.dropna() \n",
    "d"
   ]
  },
  {
   "cell_type": "code",
   "execution_count": 18,
   "metadata": {},
   "outputs": [],
   "source": [
    "# Check for inconsistencies\n",
    "df[\"channel_title\"] = df[\"channel_title\"].str.title()\n",
    "df[\"channel_title\"] = df[\"channel_title\"].str.strip()"
   ]
  },
  {
   "cell_type": "code",
   "execution_count": 21,
   "metadata": {},
   "outputs": [],
   "source": [
    "# Check for data integrity\n",
    "df = df[(df[\"subscriber_count\"] >= df[\"video_count\"]) & (df[\"view_count\"])]\n"
   ]
  },
  {
   "cell_type": "code",
   "execution_count": 22,
   "metadata": {},
   "outputs": [],
   "source": [
    "\n",
    "# Save the cleaned data to a new CSV file\n",
    "df.to_csv(\"cleaned_youtube_analysis.csv\", index=False)"
   ]
  },
  {
   "cell_type": "code",
   "execution_count": 23,
   "metadata": {},
   "outputs": [
    {
     "data": {
      "text/html": [
       "<div>\n",
       "<style scoped>\n",
       "    .dataframe tbody tr th:only-of-type {\n",
       "        vertical-align: middle;\n",
       "    }\n",
       "\n",
       "    .dataframe tbody tr th {\n",
       "        vertical-align: top;\n",
       "    }\n",
       "\n",
       "    .dataframe thead th {\n",
       "        text-align: right;\n",
       "    }\n",
       "</style>\n",
       "<table border=\"1\" class=\"dataframe\">\n",
       "  <thead>\n",
       "    <tr style=\"text-align: right;\">\n",
       "      <th></th>\n",
       "      <th>Unnamed: 0</th>\n",
       "      <th>channel_id</th>\n",
       "      <th>channel_title</th>\n",
       "      <th>description</th>\n",
       "      <th>view_count</th>\n",
       "      <th>subscriber_count</th>\n",
       "      <th>video_count</th>\n",
       "      <th>created_time</th>\n",
       "      <th>uploads</th>\n",
       "      <th>other_links</th>\n",
       "    </tr>\n",
       "  </thead>\n",
       "  <tbody>\n",
       "    <tr>\n",
       "      <th>0</th>\n",
       "      <td>0</td>\n",
       "      <td>UCn_l37ETRGxVsVqPAZM-y7w</td>\n",
       "      <td>Onkiify</td>\n",
       "      <td>Ahoy! Gamers What is Up it's your Boi Onkiify....</td>\n",
       "      <td>1443714.0</td>\n",
       "      <td>4820</td>\n",
       "      <td>193</td>\n",
       "      <td>2017-05-18T17:27:05Z</td>\n",
       "      <td>UUn_l37ETRGxVsVqPAZM-y7w</td>\n",
       "      <td>['https://www.youtube.com/redirect?event=chann...</td>\n",
       "    </tr>\n",
       "    <tr>\n",
       "      <th>1</th>\n",
       "      <td>1</td>\n",
       "      <td>UCg3811K2k6ZW0T9wrUyq7UQ</td>\n",
       "      <td>Boyzz World Gaming</td>\n",
       "      <td>Sup Guys\\n                 I'm just a Weirdo W...</td>\n",
       "      <td>761326.0</td>\n",
       "      <td>1690</td>\n",
       "      <td>196</td>\n",
       "      <td>2020-09-07T06:42:54.28756Z</td>\n",
       "      <td>UUg3811K2k6ZW0T9wrUyq7UQ</td>\n",
       "      <td>['https://www.youtube.com/redirect?event=chann...</td>\n",
       "    </tr>\n",
       "    <tr>\n",
       "      <th>2</th>\n",
       "      <td>2</td>\n",
       "      <td>UCO1-i4iqe_Kg0B-nwt5W0Gg</td>\n",
       "      <td>Majnu Gaming</td>\n",
       "      <td>Hello Gamer's 😍\\n\\nHello Family, \\nMera Name H...</td>\n",
       "      <td>290799.0</td>\n",
       "      <td>4690</td>\n",
       "      <td>468</td>\n",
       "      <td>2021-05-28T08:27:39.183399Z</td>\n",
       "      <td>UUO1-i4iqe_Kg0B-nwt5W0Gg</td>\n",
       "      <td>['https://www.youtube.com/redirect?event=chann...</td>\n",
       "    </tr>\n",
       "    <tr>\n",
       "      <th>3</th>\n",
       "      <td>3</td>\n",
       "      <td>UC6AhmVhClcDx2RPsFFw_fAA</td>\n",
       "      <td>Selem Yt</td>\n",
       "      <td>\\nAGAR AAP LOG FREE FIRE LOVER❤️ HO TO MERA CH...</td>\n",
       "      <td>6427859.0</td>\n",
       "      <td>133000</td>\n",
       "      <td>339</td>\n",
       "      <td>2021-03-03T00:59:54.797482Z</td>\n",
       "      <td>UU6AhmVhClcDx2RPsFFw_fAA</td>\n",
       "      <td>[]</td>\n",
       "    </tr>\n",
       "    <tr>\n",
       "      <th>4</th>\n",
       "      <td>4</td>\n",
       "      <td>UC5v-gTzCpaY257sxx-8P_-Q</td>\n",
       "      <td>Paglaa Tech</td>\n",
       "      <td>1000 subscribers - 31/12/2021\\n10000 subscribe...</td>\n",
       "      <td>17097445.0</td>\n",
       "      <td>147000</td>\n",
       "      <td>184</td>\n",
       "      <td>2016-05-16T16:06:36Z</td>\n",
       "      <td>UU5v-gTzCpaY257sxx-8P_-Q</td>\n",
       "      <td>[]</td>\n",
       "    </tr>\n",
       "  </tbody>\n",
       "</table>\n",
       "</div>"
      ],
      "text/plain": [
       "   Unnamed: 0                channel_id       channel_title  \\\n",
       "0           0  UCn_l37ETRGxVsVqPAZM-y7w             Onkiify   \n",
       "1           1  UCg3811K2k6ZW0T9wrUyq7UQ  Boyzz World Gaming   \n",
       "2           2  UCO1-i4iqe_Kg0B-nwt5W0Gg        Majnu Gaming   \n",
       "3           3  UC6AhmVhClcDx2RPsFFw_fAA            Selem Yt   \n",
       "4           4  UC5v-gTzCpaY257sxx-8P_-Q         Paglaa Tech   \n",
       "\n",
       "                                         description  view_count  \\\n",
       "0  Ahoy! Gamers What is Up it's your Boi Onkiify....   1443714.0   \n",
       "1  Sup Guys\\n                 I'm just a Weirdo W...    761326.0   \n",
       "2  Hello Gamer's 😍\\n\\nHello Family, \\nMera Name H...    290799.0   \n",
       "3  \\nAGAR AAP LOG FREE FIRE LOVER❤️ HO TO MERA CH...   6427859.0   \n",
       "4  1000 subscribers - 31/12/2021\\n10000 subscribe...  17097445.0   \n",
       "\n",
       "   subscriber_count  video_count                 created_time  \\\n",
       "0              4820          193         2017-05-18T17:27:05Z   \n",
       "1              1690          196   2020-09-07T06:42:54.28756Z   \n",
       "2              4690          468  2021-05-28T08:27:39.183399Z   \n",
       "3            133000          339  2021-03-03T00:59:54.797482Z   \n",
       "4            147000          184         2016-05-16T16:06:36Z   \n",
       "\n",
       "                    uploads                                        other_links  \n",
       "0  UUn_l37ETRGxVsVqPAZM-y7w  ['https://www.youtube.com/redirect?event=chann...  \n",
       "1  UUg3811K2k6ZW0T9wrUyq7UQ  ['https://www.youtube.com/redirect?event=chann...  \n",
       "2  UUO1-i4iqe_Kg0B-nwt5W0Gg  ['https://www.youtube.com/redirect?event=chann...  \n",
       "3  UU6AhmVhClcDx2RPsFFw_fAA                                                 []  \n",
       "4  UU5v-gTzCpaY257sxx-8P_-Q                                                 []  "
      ]
     },
     "execution_count": 23,
     "metadata": {},
     "output_type": "execute_result"
    }
   ],
   "source": [
    "df_clean=pd.read_csv('cleaned_youtube_analysis.csv')\n",
    "df.head()"
   ]
  },
  {
   "cell_type": "code",
   "execution_count": 24,
   "metadata": {},
   "outputs": [
    {
     "data": {
      "text/plain": [
       "(45, 10)"
      ]
     },
     "execution_count": 24,
     "metadata": {},
     "output_type": "execute_result"
    }
   ],
   "source": [
    "df_clean.shape"
   ]
  },
  {
   "cell_type": "code",
   "execution_count": 25,
   "metadata": {},
   "outputs": [
    {
     "data": {
      "image/png": "[encoded data removed]",
      "text/plain": [
       "<Figure size 432x288 with 1 Axes>"
      ]
     },
     "metadata": {
      "needs_background": "light"
     },
     "output_type": "display_data"
    }
   ],
   "source": [
    "\n",
    "\n",
    "# Visualize the distribution of the subscribers variable using a histogram\n",
    "sns.histplot(data=df, x=\"subscriber_count\")\n",
    "plt.title(\"Distribution of subscriber_count\")\n",
    "plt.xlabel(\"subscriber_count\")\n",
    "plt.ylabel(\"Frequency\")\n",
    "plt.show()\n",
    "\n",
    "\n",
    "\n"
   ]
  },
  {
   "cell_type": "code",
   "execution_count": 26,
   "metadata": {},
   "outputs": [
    {
     "data": {
      "image/png": "[encoded data removed]",
      "text/plain": [
       "<Figure size 432x288 with 1 Axes>"
      ]
     },
     "metadata": {
      "needs_background": "light"
     },
     "output_type": "display_data"
    }
   ],
   "source": [
    "# Visualize the relationship between subscribers and views using a scatter plot\n",
    "sns.scatterplot(data=df, x=\"subscriber_count\", y=\"view_count\")\n",
    "plt.title(\"subscriber_count vs. view_count\")\n",
    "plt.xlabel(\"subscriber_count\")\n",
    "plt.ylabel(\"view_count\")\n",
    "plt.show()\n",
    "\n",
    "\n"
   ]
  },
  {
   "cell_type": "code",
   "execution_count": 28,
   "metadata": {},
   "outputs": [
    {
     "name": "stdout",
     "output_type": "stream",
     "text": [
      "Correlation between subscribers and views: 0.754549159715594\n"
     ]
    }
   ],
   "source": [
    "# Calculate the correlation coefficient between subscribers and views\n",
    "corr = df[\"subscriber_count\"].corr(df[\"view_count\"])\n",
    "print(\"Correlation between subscribers and views:\", corr)"
   ]
  },
  {
   "cell_type": "code",
   "execution_count": 31,
   "metadata": {},
   "outputs": [
    {
     "data": {
      "text/plain": [
       "Onkiify                     1\n",
       "Gold Janardhan Investor     1\n",
       "Finance With Sharan         1\n",
       "Ishaan Arora                1\n",
       "Amusing Rii                 1\n",
       "Sakshi Shrivas              1\n",
       "Rohan Joshi                 1\n",
       "Abhishek Prajapati          1\n",
       "Moinsidehit                 1\n",
       "Intxstelar                  1\n",
       "R.G Bucket List             1\n",
       "Anime Spirit                1\n",
       "Seeken                      1\n",
       "Neon Man                    1\n",
       "Neuzboy                     1\n",
       "Roman Mania                 1\n",
       "Jordindian                  1\n",
       "Vivek Desai                 1\n",
       "Samay Raina                 1\n",
       "Log Kya Kahenge             1\n",
       "Ans Entertainment           1\n",
       "Ca Rachana Phadke Ranade    1\n",
       "Prafull Mba Chai Wala       1\n",
       "Boyzz World Gaming          1\n",
       "Warikoo                     1\n",
       "Majnu Gaming                1\n",
       "Selem Yt                    1\n",
       "Paglaa Tech                 1\n",
       "Prabhat Gamer               1\n",
       "Subham Hore                 1\n",
       "Silent Girl Gaming          1\n",
       "Ziyan Ki Gang               1\n",
       "Comedy Box R K Gautam       1\n",
       "Jentilal                    1\n",
       "Ag !                        1\n",
       "Comedian Vikas Thakur       1\n",
       "Nazar Battu                 1\n",
       "Sudarshan Gurjar            1\n",
       "Priyansh Agarwal            1\n",
       "Gate Smashers               1\n",
       "Saurabh Dahivadkar          1\n",
       "Rajat Arora                 1\n",
       "Rail Gyankosh               1\n",
       "Devsnest                    1\n",
       "Jenny'S Lectures Cs It      1\n",
       "Name: channel_title, dtype: int64"
      ]
     },
     "execution_count": 31,
     "metadata": {},
     "output_type": "execute_result"
    }
   ],
   "source": [
    "a=df_clean['channel_title'].value_counts()\n",
    "a"
   ]
  },
  {
   "cell_type": "code",
   "execution_count": null,
   "metadata": {},
   "outputs": [],
   "source": []
  }
 ],
 "metadata": {
  "kernelspec": {
   "display_name": "base",
   "language": "python",
   "name": "python3"
  },
  "language_info": {
   "codemirror_mode": {
    "name": "ipython",
    "version": 3
   },
   "file_extension": ".py",
   "mimetype": "text/x-python",
   "name": "python",
   "nbconvert_exporter": "python",
   "pygments_lexer": "ipython3",
   "version": "3.9.7"
  },
  "orig_nbformat": 4
 },
 "nbformat": 4,
 "nbformat_minor": 2
}
