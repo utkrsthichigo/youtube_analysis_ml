{
 "cells": [
  {
   "cell_type": "code",
   "execution_count": 4,
   "metadata": {},
   "outputs": [
    {
     "ename": "TypeError",
     "evalue": "only integer scalar arrays can be converted to a scalar index",
     "output_type": "error",
     "traceback": [
      "\u001b[1;31m---------------------------------------------------------------------------\u001b[0m",
      "\u001b[1;31mTypeError\u001b[0m                                 Traceback (most recent call last)",
      "\u001b[1;32m~\\AppData\\Local\\Temp/ipykernel_5816/2855811082.py\u001b[0m in \u001b[0;36m<module>\u001b[1;34m\u001b[0m\n\u001b[0;32m     30\u001b[0m \u001b[1;33m\u001b[0m\u001b[0m\n\u001b[0;32m     31\u001b[0m \u001b[1;31m# Calculate the top 10 most relevant words in the title, description, and tags\u001b[0m\u001b[1;33m\u001b[0m\u001b[1;33m\u001b[0m\u001b[0m\n\u001b[1;32m---> 32\u001b[1;33m \u001b[0mtitle_top_words\u001b[0m \u001b[1;33m=\u001b[0m \u001b[0mtfidf_vectorizer\u001b[0m\u001b[1;33m.\u001b[0m\u001b[0mget_feature_names\u001b[0m\u001b[1;33m(\u001b[0m\u001b[1;33m)\u001b[0m\u001b[1;33m[\u001b[0m\u001b[0mtitle_scores\u001b[0m\u001b[1;33m.\u001b[0m\u001b[0margsort\u001b[0m\u001b[1;33m(\u001b[0m\u001b[1;33m)\u001b[0m\u001b[1;33m[\u001b[0m\u001b[1;36m0\u001b[0m\u001b[1;33m]\u001b[0m\u001b[1;33m[\u001b[0m\u001b[1;33m-\u001b[0m\u001b[1;36m10\u001b[0m\u001b[1;33m:\u001b[0m\u001b[1;33m]\u001b[0m\u001b[1;33m]\u001b[0m\u001b[1;33m\u001b[0m\u001b[1;33m\u001b[0m\u001b[0m\n\u001b[0m\u001b[0;32m     33\u001b[0m \u001b[0mdescription_top_words\u001b[0m \u001b[1;33m=\u001b[0m \u001b[0mtfidf_vectorizer\u001b[0m\u001b[1;33m.\u001b[0m\u001b[0mget_feature_names\u001b[0m\u001b[1;33m(\u001b[0m\u001b[1;33m)\u001b[0m\u001b[1;33m[\u001b[0m\u001b[0mdescription_scores\u001b[0m\u001b[1;33m.\u001b[0m\u001b[0margsort\u001b[0m\u001b[1;33m(\u001b[0m\u001b[1;33m)\u001b[0m\u001b[1;33m[\u001b[0m\u001b[1;36m0\u001b[0m\u001b[1;33m]\u001b[0m\u001b[1;33m[\u001b[0m\u001b[1;33m-\u001b[0m\u001b[1;36m10\u001b[0m\u001b[1;33m:\u001b[0m\u001b[1;33m]\u001b[0m\u001b[1;33m]\u001b[0m\u001b[1;33m\u001b[0m\u001b[1;33m\u001b[0m\u001b[0m\n\u001b[0;32m     34\u001b[0m \u001b[0mtag_top_words\u001b[0m \u001b[1;33m=\u001b[0m \u001b[0mtfidf_vectorizer\u001b[0m\u001b[1;33m.\u001b[0m\u001b[0mget_feature_names\u001b[0m\u001b[1;33m(\u001b[0m\u001b[1;33m)\u001b[0m\u001b[1;33m[\u001b[0m\u001b[0mtag_scores\u001b[0m\u001b[1;33m.\u001b[0m\u001b[0margsort\u001b[0m\u001b[1;33m(\u001b[0m\u001b[1;33m)\u001b[0m\u001b[1;33m[\u001b[0m\u001b[1;36m0\u001b[0m\u001b[1;33m]\u001b[0m\u001b[1;33m[\u001b[0m\u001b[1;33m-\u001b[0m\u001b[1;36m10\u001b[0m\u001b[1;33m:\u001b[0m\u001b[1;33m]\u001b[0m\u001b[1;33m]\u001b[0m\u001b[1;33m\u001b[0m\u001b[1;33m\u001b[0m\u001b[0m\n",
      "\u001b[1;31mTypeError\u001b[0m: only integer scalar arrays can be converted to a scalar index"
     ]
    }
   ],
   "source": [
    "import pandas as pd\n",
    "from sklearn.feature_extraction.text import TfidfVectorizer\n",
    "\n",
    "# Load the dataset\n",
    "df = pd.read_csv('final_merged.csv')\n",
    "df['description_video'] = df['description_video'].fillna('')\n",
    "\n",
    "# Extract video titles, descriptions, and tags\n",
    "titles = df['title_of_video']\n",
    "descriptions = df['description_video']\n",
    "tags = df['tags']\n",
    "\n",
    "# Create a TF-IDF vectorizer\n",
    "tfidf_vectorizer = TfidfVectorizer()\n",
    "\n",
    "# Fit the vectorizer on the titles, descriptions, and tags\n",
    "tfidf_vectorizer.fit(titles)\n",
    "tfidf_vectorizer.fit(descriptions)\n",
    "tfidf_vectorizer.fit(tags)\n",
    "\n",
    "# Transform the titles, descriptions, and tags into TF-IDF matrices\n",
    "title_matrix = tfidf_vectorizer.transform(titles)\n",
    "description_matrix = tfidf_vectorizer.transform(descriptions)\n",
    "tag_matrix = tfidf_vectorizer.transform(tags)\n",
    "\n",
    "# Calculate the average TF-IDF score per word in the title, description, and tags\n",
    "title_scores = title_matrix.mean(axis=0)\n",
    "description_scores = description_matrix.mean(axis=0)\n",
    "tag_scores = tag_matrix.mean(axis=0)\n",
    "\n",
    "# Calculate the top 10 most relevant words in the title, description, and tags\n",
    "title_top_words = tfidf_vectorizer.get_feature_names()[title_scores.argsort()[0][-10:]]\n",
    "description_top_words = tfidf_vectorizer.get_feature_names()[description_scores.argsort()[0][-10:]]\n",
    "tag_top_words = tfidf_vectorizer.get_feature_names()[tag_scores.argsort()[0][-10:]]\n",
    "\n",
    "# Print the top 10 most relevant words in the title, description, and tags\n",
    "print('Top 10 most relevant words in video titles:', title_top_words)\n",
    "print('Top 10 most relevant words in video descriptions:', description_top_words)\n",
    "print('Top 10 most relevant words in video tags:', tag_top_words)\n",
    "\n",
    "# Calculate the average length of the video titles and descriptions\n",
    "title_lengths = titles.str.len().mean()\n",
    "description_lengths = descriptions.str.len().mean()\n",
    "\n",
    "# Print the average length of the video titles and descriptions\n",
    "print('Average length of video titles:', title_lengths)\n",
    "print('Average length of video descriptions:', description_lengths)\n",
    "\n",
    "# Calculate the\n"
   ]
  },
  {
   "cell_type": "code",
   "execution_count": 6,
   "metadata": {},
   "outputs": [
    {
     "name": "stdout",
     "output_type": "stream",
     "text": [
      "                                        title_of_video  watch_time\n",
      "203                             FIRST LOVE @YogiBabaOG    7.294291\n",
      "204  PEN FIGHT Ft. PUFF TALKS @PuffTalks  | ANIMATI...    6.550916\n",
      "199              JAVELIN THROW! Ft. SHAADI WAALE UNCLE    6.302207\n",
      "198                        KENDRIYA VIDYALAYA IS SCARY    5.470834\n",
      "205      Big Dreams ft. Parents @KirtiChow  @RIYAGOGOI    4.820842\n",
      "197   ANGER ISSUES | ANIMATION STORY |  RG BUCKET LIST    4.049873\n",
      "196  PEER PRESSURE FT. CRICKET | ANIMATION STORY | ...    3.071843\n",
      "193  FIRST LOVE (Part-2) | Official trailer |@Kirti...    1.708102\n",
      "202  PUBLIC TRANSPORTATION | ANIMATION VIDEO | ASSA...    1.573231\n",
      "189  My first India’s Premium Luxury Train Journey ...    1.465255\n",
      "                                        title_of_video  engagement\n",
      "199              JAVELIN THROW! Ft. SHAADI WAALE UNCLE     1113392\n",
      "203                             FIRST LOVE @YogiBabaOG      969935\n",
      "204  PEN FIGHT Ft. PUFF TALKS @PuffTalks  | ANIMATI...      698997\n",
      "205      Big Dreams ft. Parents @KirtiChow  @RIYAGOGOI      676443\n",
      "198                        KENDRIYA VIDYALAYA IS SCARY      654639\n",
      "193  FIRST LOVE (Part-2) | Official trailer |@Kirti...      645393\n",
      "197   ANGER ISSUES | ANIMATION STORY |  RG BUCKET LIST      526998\n",
      "196  PEER PRESSURE FT. CRICKET | ANIMATION STORY | ...      475634\n",
      "194  BUILDING MY GAMING PC | ANIMATION STORY | ASSA...      237718\n",
      "200  THE BIHARI PRINCIPAL | FUNNY ANIMATION STORY |...      224863\n"
     ]
    }
   ],
   "source": [
    "import pandas as pd\n",
    "\n",
    "# Load data\n",
    "data = pd.read_csv('final_merged.csv')\n",
    "\n",
    "# Convert duration to seconds\n",
    "data['duration_video'] = pd.to_timedelta(data['duration_video']).dt.total_seconds()\n",
    "\n",
    "# Calculate watch time\n",
    "data['watch_time'] = data['view_count_video'] * data['duration_video']\n",
    "\n",
    "# Calculate engagement\n",
    "data['engagement'] = data['likes_video']  + data['Total_Comments']\n",
    "\n",
    "# Print top 10 videos by watch time\n",
    "top_10_videos = data[['title_of_video', 'watch_time']].sort_values('watch_time', ascending=False).head(10)\n",
    "print(top_10_videos)\n",
    "\n",
    "# Print top 10 videos by engagement\n",
    "top_10_engagement = data[['title_of_video', 'engagement']].sort_values('engagement', ascending=False).head(10)\n",
    "print(top_10_engagement)\n"
   ]
  },
  {
   "cell_type": "code",
   "execution_count": 8,
   "metadata": {},
   "outputs": [
    {
     "name": "stdout",
     "output_type": "stream",
     "text": [
      "                                        seo_keywords  average_views\n",
      "0  JAVELIN THROW! Ft. SHAADI WAALE UNCLE Download...     16541225.0\n",
      "1  PEN FIGHT Ft. PUFF TALKS @PuffTalks  | ANIMATI...     13314870.0\n",
      "2  FIRST LOVE @YogiBabaOG Download Winzo:\\nhttps:...     13095675.0\n",
      "3  Big Dreams ft. Parents @KirtiChow  @RIYAGOGOI ...      9919427.0\n",
      "4  KENDRIYA VIDYALAYA IS SCARY Register with Coin...      8809716.0\n",
      "5  ANGER ISSUES | ANIMATION STORY |  RG BUCKET LI...      8214752.0\n",
      "6  FIRST LOVE (Part-2) | Official trailer |@Kirti...      7491674.0\n",
      "7  PEER PRESSURE FT. CRICKET | ANIMATION STORY | ...      6965630.0\n",
      "8  PUBLIC TRANSPORTATION | ANIMATION VIDEO | ASSA...      3633327.0\n",
      "9  Who PAYS for the FIRST DATE? When is the last ...      3518414.0\n"
     ]
    },
    {
     "ename": "ValueError",
     "evalue": "'collaboration_count' is both an index level and a column label, which is ambiguous.",
     "output_type": "error",
     "traceback": [
      "\u001b[1;31m---------------------------------------------------------------------------\u001b[0m",
      "\u001b[1;31mValueError\u001b[0m                                Traceback (most recent call last)",
      "\u001b[1;32m~\\AppData\\Local\\Temp/ipykernel_5816/3136913572.py\u001b[0m in \u001b[0;36m<module>\u001b[1;34m\u001b[0m\n\u001b[0;32m     22\u001b[0m \u001b[0mgrouped\u001b[0m \u001b[1;33m=\u001b[0m \u001b[0mdata\u001b[0m\u001b[1;33m.\u001b[0m\u001b[0mgroupby\u001b[0m\u001b[1;33m(\u001b[0m\u001b[1;34m'collaboration_count'\u001b[0m\u001b[1;33m)\u001b[0m\u001b[1;33m.\u001b[0m\u001b[0magg\u001b[0m\u001b[1;33m(\u001b[0m\u001b[1;33m{\u001b[0m\u001b[1;34m'view_count_video'\u001b[0m\u001b[1;33m:\u001b[0m \u001b[1;33m[\u001b[0m\u001b[0mnp\u001b[0m\u001b[1;33m.\u001b[0m\u001b[0mmean\u001b[0m\u001b[1;33m,\u001b[0m \u001b[0mnp\u001b[0m\u001b[1;33m.\u001b[0m\u001b[0msize\u001b[0m\u001b[1;33m]\u001b[0m\u001b[1;33m}\u001b[0m\u001b[1;33m)\u001b[0m\u001b[1;33m\u001b[0m\u001b[1;33m\u001b[0m\u001b[0m\n\u001b[0;32m     23\u001b[0m \u001b[0mgrouped\u001b[0m\u001b[1;33m.\u001b[0m\u001b[0mcolumns\u001b[0m \u001b[1;33m=\u001b[0m \u001b[1;33m[\u001b[0m\u001b[1;34m'average_views'\u001b[0m\u001b[1;33m,\u001b[0m \u001b[1;34m'collaboration_count'\u001b[0m\u001b[1;33m]\u001b[0m\u001b[1;33m\u001b[0m\u001b[1;33m\u001b[0m\u001b[0m\n\u001b[1;32m---> 24\u001b[1;33m \u001b[0mgrouped\u001b[0m \u001b[1;33m=\u001b[0m \u001b[0mgrouped\u001b[0m\u001b[1;33m.\u001b[0m\u001b[0msort_values\u001b[0m\u001b[1;33m(\u001b[0m\u001b[1;34m'collaboration_count'\u001b[0m\u001b[1;33m)\u001b[0m\u001b[1;33m.\u001b[0m\u001b[0mreset_index\u001b[0m\u001b[1;33m(\u001b[0m\u001b[1;33m)\u001b[0m\u001b[1;33m\u001b[0m\u001b[1;33m\u001b[0m\u001b[0m\n\u001b[0m\u001b[0;32m     25\u001b[0m \u001b[1;33m\u001b[0m\u001b[0m\n\u001b[0;32m     26\u001b[0m \u001b[1;31m# Print collaboration analysis\u001b[0m\u001b[1;33m\u001b[0m\u001b[1;33m\u001b[0m\u001b[0m\n",
      "\u001b[1;32mc:\\Users\\ayush\\anaconda3\\lib\\site-packages\\pandas\\util\\_decorators.py\u001b[0m in \u001b[0;36mwrapper\u001b[1;34m(*args, **kwargs)\u001b[0m\n\u001b[0;32m    309\u001b[0m                     \u001b[0mstacklevel\u001b[0m\u001b[1;33m=\u001b[0m\u001b[0mstacklevel\u001b[0m\u001b[1;33m,\u001b[0m\u001b[1;33m\u001b[0m\u001b[1;33m\u001b[0m\u001b[0m\n\u001b[0;32m    310\u001b[0m                 )\n\u001b[1;32m--> 311\u001b[1;33m             \u001b[1;32mreturn\u001b[0m \u001b[0mfunc\u001b[0m\u001b[1;33m(\u001b[0m\u001b[1;33m*\u001b[0m\u001b[0margs\u001b[0m\u001b[1;33m,\u001b[0m \u001b[1;33m**\u001b[0m\u001b[0mkwargs\u001b[0m\u001b[1;33m)\u001b[0m\u001b[1;33m\u001b[0m\u001b[1;33m\u001b[0m\u001b[0m\n\u001b[0m\u001b[0;32m    312\u001b[0m \u001b[1;33m\u001b[0m\u001b[0m\n\u001b[0;32m    313\u001b[0m         \u001b[1;32mreturn\u001b[0m \u001b[0mwrapper\u001b[0m\u001b[1;33m\u001b[0m\u001b[1;33m\u001b[0m\u001b[0m\n",
      "\u001b[1;32mc:\\Users\\ayush\\anaconda3\\lib\\site-packages\\pandas\\core\\frame.py\u001b[0m in \u001b[0;36msort_values\u001b[1;34m(self, by, axis, ascending, inplace, kind, na_position, ignore_index, key)\u001b[0m\n\u001b[0;32m   6257\u001b[0m \u001b[1;33m\u001b[0m\u001b[0m\n\u001b[0;32m   6258\u001b[0m             \u001b[0mby\u001b[0m \u001b[1;33m=\u001b[0m \u001b[0mby\u001b[0m\u001b[1;33m[\u001b[0m\u001b[1;36m0\u001b[0m\u001b[1;33m]\u001b[0m\u001b[1;33m\u001b[0m\u001b[1;33m\u001b[0m\u001b[0m\n\u001b[1;32m-> 6259\u001b[1;33m             \u001b[0mk\u001b[0m \u001b[1;33m=\u001b[0m \u001b[0mself\u001b[0m\u001b[1;33m.\u001b[0m\u001b[0m_get_label_or_level_values\u001b[0m\u001b[1;33m(\u001b[0m\u001b[0mby\u001b[0m\u001b[1;33m,\u001b[0m \u001b[0maxis\u001b[0m\u001b[1;33m=\u001b[0m\u001b[0maxis\u001b[0m\u001b[1;33m)\u001b[0m\u001b[1;33m\u001b[0m\u001b[1;33m\u001b[0m\u001b[0m\n\u001b[0m\u001b[0;32m   6260\u001b[0m \u001b[1;33m\u001b[0m\u001b[0m\n\u001b[0;32m   6261\u001b[0m             \u001b[1;31m# need to rewrap column in Series to apply key function\u001b[0m\u001b[1;33m\u001b[0m\u001b[1;33m\u001b[0m\u001b[0m\n",
      "\u001b[1;32mc:\\Users\\ayush\\anaconda3\\lib\\site-packages\\pandas\\core\\generic.py\u001b[0m in \u001b[0;36m_get_label_or_level_values\u001b[1;34m(self, key, axis)\u001b[0m\n\u001b[0;32m   1772\u001b[0m \u001b[1;33m\u001b[0m\u001b[0m\n\u001b[0;32m   1773\u001b[0m         \u001b[1;32mif\u001b[0m \u001b[0mself\u001b[0m\u001b[1;33m.\u001b[0m\u001b[0m_is_label_reference\u001b[0m\u001b[1;33m(\u001b[0m\u001b[0mkey\u001b[0m\u001b[1;33m,\u001b[0m \u001b[0maxis\u001b[0m\u001b[1;33m=\u001b[0m\u001b[0maxis\u001b[0m\u001b[1;33m)\u001b[0m\u001b[1;33m:\u001b[0m\u001b[1;33m\u001b[0m\u001b[1;33m\u001b[0m\u001b[0m\n\u001b[1;32m-> 1774\u001b[1;33m             \u001b[0mself\u001b[0m\u001b[1;33m.\u001b[0m\u001b[0m_check_label_or_level_ambiguity\u001b[0m\u001b[1;33m(\u001b[0m\u001b[0mkey\u001b[0m\u001b[1;33m,\u001b[0m \u001b[0maxis\u001b[0m\u001b[1;33m=\u001b[0m\u001b[0maxis\u001b[0m\u001b[1;33m)\u001b[0m\u001b[1;33m\u001b[0m\u001b[1;33m\u001b[0m\u001b[0m\n\u001b[0m\u001b[0;32m   1775\u001b[0m             \u001b[0mvalues\u001b[0m \u001b[1;33m=\u001b[0m \u001b[0mself\u001b[0m\u001b[1;33m.\u001b[0m\u001b[0mxs\u001b[0m\u001b[1;33m(\u001b[0m\u001b[0mkey\u001b[0m\u001b[1;33m,\u001b[0m \u001b[0maxis\u001b[0m\u001b[1;33m=\u001b[0m\u001b[0mother_axes\u001b[0m\u001b[1;33m[\u001b[0m\u001b[1;36m0\u001b[0m\u001b[1;33m]\u001b[0m\u001b[1;33m)\u001b[0m\u001b[1;33m.\u001b[0m\u001b[0m_values\u001b[0m\u001b[1;33m\u001b[0m\u001b[1;33m\u001b[0m\u001b[0m\n\u001b[0;32m   1776\u001b[0m         \u001b[1;32melif\u001b[0m \u001b[0mself\u001b[0m\u001b[1;33m.\u001b[0m\u001b[0m_is_level_reference\u001b[0m\u001b[1;33m(\u001b[0m\u001b[0mkey\u001b[0m\u001b[1;33m,\u001b[0m \u001b[0maxis\u001b[0m\u001b[1;33m=\u001b[0m\u001b[0maxis\u001b[0m\u001b[1;33m)\u001b[0m\u001b[1;33m:\u001b[0m\u001b[1;33m\u001b[0m\u001b[1;33m\u001b[0m\u001b[0m\n",
      "\u001b[1;32mc:\\Users\\ayush\\anaconda3\\lib\\site-packages\\pandas\\core\\generic.py\u001b[0m in \u001b[0;36m_check_label_or_level_ambiguity\u001b[1;34m(self, key, axis)\u001b[0m\n\u001b[0;32m   1731\u001b[0m                 \u001b[1;34mf\"{label_article} {label_type} label, which is ambiguous.\"\u001b[0m\u001b[1;33m\u001b[0m\u001b[1;33m\u001b[0m\u001b[0m\n\u001b[0;32m   1732\u001b[0m             )\n\u001b[1;32m-> 1733\u001b[1;33m             \u001b[1;32mraise\u001b[0m \u001b[0mValueError\u001b[0m\u001b[1;33m(\u001b[0m\u001b[0mmsg\u001b[0m\u001b[1;33m)\u001b[0m\u001b[1;33m\u001b[0m\u001b[1;33m\u001b[0m\u001b[0m\n\u001b[0m\u001b[0;32m   1734\u001b[0m \u001b[1;33m\u001b[0m\u001b[0m\n\u001b[0;32m   1735\u001b[0m     \u001b[1;33m@\u001b[0m\u001b[0mfinal\u001b[0m\u001b[1;33m\u001b[0m\u001b[1;33m\u001b[0m\u001b[0m\n",
      "\u001b[1;31mValueError\u001b[0m: 'collaboration_count' is both an index level and a column label, which is ambiguous."
     ]
    }
   ],
   "source": [
    "\n",
    "import numpy as np\n",
    "\n",
    "# Fill missing values with empty string\n",
    "data = data.fillna('')\n",
    "\n",
    "# Create a new column for SEO keywords\n",
    "data['seo_keywords'] = data['title_of_video'] + ' ' + data['description_video']\n",
    "\n",
    "# Create a new column for collaboration count\n",
    "data['collaboration_count'] = data['tags'].apply(lambda x: len(x.split('|')))\n",
    "\n",
    "# Calculate average views for each SEO keyword\n",
    "grouped = data.groupby('seo_keywords').agg({'view_count_video': [np.mean, np.size]})\n",
    "grouped.columns = ['average_views', 'keyword_count']\n",
    "grouped = grouped.sort_values('average_views', ascending=False).reset_index()\n",
    "\n",
    "# Print top 10 SEO keywords\n",
    "top_10_seo_keywords = grouped[['seo_keywords', 'average_views']].head(10)\n",
    "print(top_10_seo_keywords)\n",
    "\n",
    "# Calculate average views for each collaboration count\n",
    "grouped = data.groupby('collaboration_count').agg({'view_count_video': [np.mean, np.size]})\n",
    "grouped.columns = ['average_views', 'collaboration_count']\n",
    "grouped = grouped.sort_values('collaboration_count').reset_index()\n",
    "\n",
    "# Print collaboration analysis\n",
    "collaboration_analysis = grouped[['collaboration_count', 'average_views']]\n",
    "print(collaboration_analysis)\n"
   ]
  },
  {
   "cell_type": "code",
   "execution_count": null,
   "metadata": {},
   "outputs": [],
   "source": []
  }
 ],
 "metadata": {
  "kernelspec": {
   "display_name": "base",
   "language": "python",
   "name": "python3"
  },
  "language_info": {
   "codemirror_mode": {
    "name": "ipython",
    "version": 3
   },
   "file_extension": ".py",
   "mimetype": "text/x-python",
   "name": "python",
   "nbconvert_exporter": "python",
   "pygments_lexer": "ipython3",
   "version": "3.9.7"
  },
  "orig_nbformat": 4
 },
 "nbformat": 4,
 "nbformat_minor": 2
}
